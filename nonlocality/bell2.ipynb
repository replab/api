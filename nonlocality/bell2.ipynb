{
 "cells": [
  {
   "cell_type": "markdown",
   "id": "e322e417",
   "metadata": {},
   "source": [
    "# Symmetries in Bell nonlocality, part 2\n",
    "\n",
    "We describe the relabelings in the CHSH scenario, and decompose their action on probability distributions $P(ab|xy)$, now using an abstract group construction.\n",
    "\n",
    "We identify those relabelings with a [wreath product](https://en.wikipedia.org/wiki/Wreath_product) construction, which RepLAB supports.\n",
    "This topic guide can also be considered as a (small) introduction to the group constructions available in RepLAB."
   ]
  },
  {
   "cell_type": "markdown",
   "id": "935a0416",
   "metadata": {},
   "source": [
    "Before using *RepLAB* commands, we must first initialize the library:"
   ]
  },
  {
   "cell_type": "code",
   "execution_count": 1,
   "id": "098a8f54",
   "metadata": {
    "execution": {
     "iopub.execute_input": "2021-12-28T13:59:13.292734Z",
     "iopub.status.busy": "2021-12-28T13:59:13.292381Z",
     "iopub.status.idle": "2021-12-28T13:59:13.315328Z",
     "shell.execute_reply": "2021-12-28T13:59:13.314912Z"
    }
   },
   "outputs": [
    {
     "name": "stdout",
     "output_type": "stream",
     "text": [
      "warning: addpath: /github/workspace/generated/sphinx/nonlocality/../../external/replab: No such file or directory\r\n"
     ]
    },
    {
     "name": "stdout",
     "output_type": "stream",
     "text": [
      "error: 'replab_init' undefined near line 1, column 1\r\n"
     ]
    }
   ],
   "source": [
    "addpath([pwd, '/../../external/replab']);\n",
    "replab_init('verbose', 0);"
   ]
  },
  {
   "cell_type": "markdown",
   "id": "f028db08",
   "metadata": {},
   "source": [
    "## Only outputs\n",
    "\n",
    "Outputs are binary, so the relabelling of outputs is the symmetric group\n",
    "of domain size 2."
   ]
  },
  {
   "cell_type": "code",
   "execution_count": 2,
   "id": "e5923cf3",
   "metadata": {
    "execution": {
     "iopub.execute_input": "2021-12-28T13:59:13.317613Z",
     "iopub.status.busy": "2021-12-28T13:59:13.317233Z",
     "iopub.status.idle": "2021-12-28T13:59:13.325174Z",
     "shell.execute_reply": "2021-12-28T13:59:13.324815Z"
    }
   },
   "outputs": [
    {
     "name": "stdout",
     "output_type": "stream",
     "text": [
      "error: 'replab' undefined near line 1, column 1\r\n"
     ]
    }
   ],
   "source": [
    "outputGroup = replab.S(2)"
   ]
  },
  {
   "cell_type": "markdown",
   "id": "8ac3de23",
   "metadata": {},
   "source": [
    "Now, an element of `outputGroup` is just a permutation of the two outputs:"
   ]
  },
  {
   "cell_type": "code",
   "execution_count": 3,
   "id": "3949baa3",
   "metadata": {
    "execution": {
     "iopub.execute_input": "2021-12-28T13:59:13.327380Z",
     "iopub.status.busy": "2021-12-28T13:59:13.327009Z",
     "iopub.status.idle": "2021-12-28T13:59:13.334826Z",
     "shell.execute_reply": "2021-12-28T13:59:13.334482Z"
    }
   },
   "outputs": [
    {
     "name": "stdout",
     "output_type": "stream",
     "text": [
      "error: 'outputGroup' undefined near line 1, column 1\r\n"
     ]
    }
   ],
   "source": [
    "outputGroup.elements"
   ]
  },
  {
   "cell_type": "markdown",
   "id": "90249179",
   "metadata": {},
   "source": [
    "The representation of this relabelling on the probabilities $P(a)$ is then the defining representation"
   ]
  },
  {
   "cell_type": "code",
   "execution_count": 4,
   "id": "f8228da4",
   "metadata": {
    "execution": {
     "iopub.execute_input": "2021-12-28T13:59:13.337126Z",
     "iopub.status.busy": "2021-12-28T13:59:13.336743Z",
     "iopub.status.idle": "2021-12-28T13:59:13.348771Z",
     "shell.execute_reply": "2021-12-28T13:59:13.348439Z"
    }
   },
   "outputs": [
    {
     "name": "stdout",
     "output_type": "stream",
     "text": [
      "error: 'outputGroup' undefined near line 1, column 1\r\n"
     ]
    },
    {
     "name": "stdout",
     "output_type": "stream",
     "text": [
      "error: 'outputRep' undefined near line 1, column 1\r\n"
     ]
    }
   ],
   "source": [
    "outputRep = outputGroup.naturalRep\n",
    "outputRep.image([2 1])"
   ]
  },
  {
   "cell_type": "markdown",
   "id": "e014bb02",
   "metadata": {},
   "source": [
    "## Inputs and outputs\n",
    "\n",
    "In the CHSH scenario, each party has two binary measurements. Therefore,\n",
    "a copy of $S_2$ acts on the outputs of the first measurement, and a second\n",
    "copy of $S_2$ acting on the outputs of the second measurement, while\n",
    "another copy of $S_2$ permutes the choice of measurement (input).\n",
    "\n",
    "This is described by the wreath product of $S_2$ by $S_2$."
   ]
  },
  {
   "cell_type": "code",
   "execution_count": 5,
   "id": "99250e88",
   "metadata": {
    "execution": {
     "iopub.execute_input": "2021-12-28T13:59:13.351010Z",
     "iopub.status.busy": "2021-12-28T13:59:13.350418Z",
     "iopub.status.idle": "2021-12-28T13:59:13.363634Z",
     "shell.execute_reply": "2021-12-28T13:59:13.363300Z"
    }
   },
   "outputs": [
    {
     "name": "stdout",
     "output_type": "stream",
     "text": [
      "error: 'replab' undefined near line 1, column 1\r\n"
     ]
    },
    {
     "name": "stdout",
     "output_type": "stream",
     "text": [
      "error: 'inputGroup' undefined near line 1, column 1\r\n"
     ]
    }
   ],
   "source": [
    "inputGroup = replab.S(2)\n",
    "ioGroup = inputGroup.wreathProduct(outputGroup)"
   ]
  },
  {
   "cell_type": "markdown",
   "id": "b84a4426",
   "metadata": {},
   "source": [
    "Elements of `ioGroup` are now composed of a permutation of inputs, and the conditional output permutation for $x=1,2$:"
   ]
  },
  {
   "cell_type": "code",
   "execution_count": 6,
   "id": "d886cdb4",
   "metadata": {
    "execution": {
     "iopub.execute_input": "2021-12-28T13:59:13.365731Z",
     "iopub.status.busy": "2021-12-28T13:59:13.365355Z",
     "iopub.status.idle": "2021-12-28T13:59:13.373483Z",
     "shell.execute_reply": "2021-12-28T13:59:13.373130Z"
    }
   },
   "outputs": [
    {
     "name": "stdout",
     "output_type": "stream",
     "text": [
      "error: 'ioGroup' undefined near line 1, column 1\r\n"
     ]
    }
   ],
   "source": [
    "ioGroup.elements"
   ]
  },
  {
   "cell_type": "markdown",
   "id": "3034c003",
   "metadata": {},
   "source": [
    "The representation on the conditional probility $P(a|x)$ is the imprimitive representation,\n",
    "given that we use the defining representation\n",
    "for the inner group"
   ]
  },
  {
   "cell_type": "code",
   "execution_count": 7,
   "id": "77295f45",
   "metadata": {
    "execution": {
     "iopub.execute_input": "2021-12-28T13:59:13.375604Z",
     "iopub.status.busy": "2021-12-28T13:59:13.375226Z",
     "iopub.status.idle": "2021-12-28T13:59:13.383393Z",
     "shell.execute_reply": "2021-12-28T13:59:13.383068Z"
    }
   },
   "outputs": [
    {
     "name": "stdout",
     "output_type": "stream",
     "text": [
      "error: 'ioGroup' undefined near line 1, column 1\r\n"
     ]
    }
   ],
   "source": [
    "ioRep = ioGroup.imprimitiveRep(outputRep);"
   ]
  },
  {
   "cell_type": "code",
   "execution_count": 8,
   "id": "176976a4",
   "metadata": {
    "execution": {
     "iopub.execute_input": "2021-12-28T13:59:13.385468Z",
     "iopub.status.busy": "2021-12-28T13:59:13.385073Z",
     "iopub.status.idle": "2021-12-28T13:59:13.392958Z",
     "shell.execute_reply": "2021-12-28T13:59:13.392631Z"
    }
   },
   "outputs": [
    {
     "name": "stdout",
     "output_type": "stream",
     "text": [
      "error: 'ioRep' undefined near line 1, column 1\r\n"
     ]
    }
   ],
   "source": [
    "ioRep.image({[2 1] {[1 2] [1 2]}}) % permuting only the inputs"
   ]
  },
  {
   "cell_type": "code",
   "execution_count": 9,
   "id": "b1ba3ed8",
   "metadata": {
    "execution": {
     "iopub.execute_input": "2021-12-28T13:59:13.394991Z",
     "iopub.status.busy": "2021-12-28T13:59:13.394623Z",
     "iopub.status.idle": "2021-12-28T13:59:13.402382Z",
     "shell.execute_reply": "2021-12-28T13:59:13.402074Z"
    }
   },
   "outputs": [
    {
     "name": "stdout",
     "output_type": "stream",
     "text": [
      "error: 'ioRep' undefined near line 1, column 1\r\n"
     ]
    }
   ],
   "source": [
    "ioRep.image({[1 2] {[2 1] [1 2]}}) % permuting only the outputs, conditioned on $x=1$"
   ]
  }
 ],
 "metadata": {
  "jupytext": {
   "cell_metadata_filter": "-all",
   "main_language": "matlab",
   "notebook_metadata_filter": "-all",
   "text_representation": {
    "extension": ".m",
    "format_name": "light"
   }
  },
  "language_info": {
   "file_extension": ".m",
   "help_links": [
    {
     "text": "GNU Octave",
     "url": "https://www.gnu.org/software/octave/support.html"
    },
    {
     "text": "Octave Kernel",
     "url": "https://github.com/Calysto/octave_kernel"
    },
    {
     "text": "MetaKernel Magics",
     "url": "https://metakernel.readthedocs.io/en/latest/source/README.html"
    }
   ],
   "mimetype": "text/x-octave",
   "name": "octave",
   "version": "6.2.0"
  }
 },
 "nbformat": 4,
 "nbformat_minor": 5
}
