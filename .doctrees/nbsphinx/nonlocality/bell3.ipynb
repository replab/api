{
 "cells": [
  {
   "cell_type": "markdown",
   "id": "b9d58bae",
   "metadata": {},
   "source": [
    "# Symmetries in Bell nonlocality, part 3\n",
    "\n",
    "Let us now turn our attention to the symmetries of the full scenario. We first recall the definitions of part 1."
   ]
  },
  {
   "cell_type": "code",
   "execution_count": 1,
   "id": "27d61e02",
   "metadata": {
    "execution": {
     "iopub.execute_input": "2021-12-28T13:59:17.684523Z",
     "iopub.status.busy": "2021-12-28T13:59:17.684163Z",
     "iopub.status.idle": "2021-12-28T13:59:17.727722Z",
     "shell.execute_reply": "2021-12-28T13:59:17.727342Z"
    }
   },
   "outputs": [
    {
     "name": "stdout",
     "output_type": "stream",
     "text": [
      "warning: addpath: /github/workspace/generated/sphinx/nonlocality/../../external/replab: No such file or directory\r\n"
     ]
    },
    {
     "name": "stdout",
     "output_type": "stream",
     "text": [
      "error: 'replab_init' undefined near line 1, column 1\r\n"
     ]
    },
    {
     "name": "stdout",
     "output_type": "stream",
     "text": [
      "error: 'replab' undefined near line 1, column 1\r\n"
     ]
    },
    {
     "name": "stdout",
     "output_type": "stream",
     "text": [
      "error: 'outputGroup' undefined near line 1, column 1\r\n"
     ]
    },
    {
     "name": "stdout",
     "output_type": "stream",
     "text": [
      "error: 'replab' undefined near line 1, column 1\r\n"
     ]
    },
    {
     "name": "stdout",
     "output_type": "stream",
     "text": [
      "error: 'inputGroup' undefined near line 1, column 1\r\n"
     ]
    },
    {
     "name": "stdout",
     "output_type": "stream",
     "text": [
      "error: 'ioGroup' undefined near line 1, column 1\r\n"
     ]
    }
   ],
   "source": [
    "addpath([pwd, '/../../external/replab']);\n",
    "replab_init('verbose', 0);\n",
    "outputGroup = replab.S(2);\n",
    "outputRep = outputGroup.naturalRep;\n",
    "inputGroup = replab.S(2);\n",
    "ioGroup = inputGroup.wreathProduct(outputGroup);\n",
    "ioRep = ioGroup.imprimitiveRep(outputRep);"
   ]
  },
  {
   "cell_type": "markdown",
   "id": "ef3b8eec",
   "metadata": {},
   "source": [
    "The same story repeats for relabelings of parties: the scenario involves\n",
    "two homogeneous parties. We thus have two copies of the group relabeling\n",
    "inputs and/or outputs (one for Alice, one for Bob), and a copy of $S_2$ that\n",
    "permutes the parties. This group desribing all possible relabellings in\n",
    "this scenario is thus given by:"
   ]
  },
  {
   "cell_type": "code",
   "execution_count": 2,
   "id": "6bcb65c6",
   "metadata": {
    "execution": {
     "iopub.execute_input": "2021-12-28T13:59:17.729961Z",
     "iopub.status.busy": "2021-12-28T13:59:17.729582Z",
     "iopub.status.idle": "2021-12-28T13:59:17.737479Z",
     "shell.execute_reply": "2021-12-28T13:59:17.737106Z"
    }
   },
   "outputs": [
    {
     "name": "stdout",
     "output_type": "stream",
     "text": [
      "error: 'outputGroup' undefined near line 1, column 1\r\n"
     ]
    }
   ],
   "source": [
    "scenarioGroup = outputGroup.wreathProduct(ioGroup);"
   ]
  },
  {
   "cell_type": "code",
   "execution_count": 3,
   "id": "d1be3a15",
   "metadata": {
    "execution": {
     "iopub.execute_input": "2021-12-28T13:59:17.739594Z",
     "iopub.status.busy": "2021-12-28T13:59:17.739225Z",
     "iopub.status.idle": "2021-12-28T13:59:17.747674Z",
     "shell.execute_reply": "2021-12-28T13:59:17.747318Z"
    }
   },
   "outputs": [
    {
     "name": "stdout",
     "output_type": "stream",
     "text": [
      "error: 'scenarioGroup' undefined near line 1, column 1\r\n"
     ]
    }
   ],
   "source": [
    "scenarioGroup.sample"
   ]
  },
  {
   "cell_type": "markdown",
   "id": "783e81e2",
   "metadata": {},
   "source": [
    "The representation on the behavior $P(ab|xy)$ is however a primitive\n",
    "representation, as $P(a|x; b|y)$ ressembles a tensor. Inside each party,\n",
    "we use the imprimitive representation constructed before."
   ]
  },
  {
   "cell_type": "code",
   "execution_count": 4,
   "id": "32253362",
   "metadata": {
    "execution": {
     "iopub.execute_input": "2021-12-28T13:59:17.749762Z",
     "iopub.status.busy": "2021-12-28T13:59:17.749395Z",
     "iopub.status.idle": "2021-12-28T13:59:17.757034Z",
     "shell.execute_reply": "2021-12-28T13:59:17.756726Z"
    }
   },
   "outputs": [
    {
     "name": "stdout",
     "output_type": "stream",
     "text": [
      "error: 'scenarioGroup' undefined near line 1, column 1\r\n"
     ]
    }
   ],
   "source": [
    "probRep = scenarioGroup.primitiveRep(ioRep);"
   ]
  },
  {
   "cell_type": "markdown",
   "id": "b3a109fa",
   "metadata": {},
   "source": [
    "Decomposition of the full probability space\n",
    "\n",
    "We can now compute the decomposition of this representation on $P(ab|xy)$:"
   ]
  },
  {
   "cell_type": "code",
   "execution_count": 5,
   "id": "c426e9fd",
   "metadata": {
    "execution": {
     "iopub.execute_input": "2021-12-28T13:59:17.759223Z",
     "iopub.status.busy": "2021-12-28T13:59:17.758851Z",
     "iopub.status.idle": "2021-12-28T13:59:17.766909Z",
     "shell.execute_reply": "2021-12-28T13:59:17.766550Z"
    }
   },
   "outputs": [
    {
     "name": "stdout",
     "output_type": "stream",
     "text": [
      "error: 'probRep' undefined near line 1, column 1\r\n"
     ]
    }
   ],
   "source": [
    "dec = probRep.decomposition"
   ]
  },
  {
   "cell_type": "markdown",
   "id": "31154130",
   "metadata": {},
   "source": [
    "There are 6 irreducible components"
   ]
  },
  {
   "cell_type": "code",
   "execution_count": 6,
   "id": "e4d4a8f2",
   "metadata": {
    "execution": {
     "iopub.execute_input": "2021-12-28T13:59:17.768997Z",
     "iopub.status.busy": "2021-12-28T13:59:17.768634Z",
     "iopub.status.idle": "2021-12-28T13:59:17.776705Z",
     "shell.execute_reply": "2021-12-28T13:59:17.776368Z"
    }
   },
   "outputs": [
    {
     "name": "stdout",
     "output_type": "stream",
     "text": [
      "error: 'dec' undefined near line 1, column 1\r\n"
     ]
    }
   ],
   "source": [
    "dec.nComponents"
   ]
  },
  {
   "cell_type": "markdown",
   "id": "7516bc72",
   "metadata": {},
   "source": [
    "These components correspond to the following physical elements ( see [arXiv:1610.01833](https://arxiv.org/abs/1610.01833) ) for more details:\n",
    "\n",
    "- The global normalization of probabilities\n",
    "- The difference of normalization between $x=y$ and $x\\ne y$\n",
    "- The difference of normalization between $x=0$ and $x=1$\n",
    "- The signaling between Alice and Bob\n",
    "- The marginal probabilities of Alice and Bob\n",
    "- The correlation between Alice and Bob"
   ]
  }
 ],
 "metadata": {
  "jupytext": {
   "cell_metadata_filter": "-all",
   "main_language": "matlab",
   "notebook_metadata_filter": "-all",
   "text_representation": {
    "extension": ".m",
    "format_name": "light"
   }
  },
  "language_info": {
   "file_extension": ".m",
   "help_links": [
    {
     "text": "GNU Octave",
     "url": "https://www.gnu.org/software/octave/support.html"
    },
    {
     "text": "Octave Kernel",
     "url": "https://github.com/Calysto/octave_kernel"
    },
    {
     "text": "MetaKernel Magics",
     "url": "https://metakernel.readthedocs.io/en/latest/source/README.html"
    }
   ],
   "mimetype": "text/x-octave",
   "name": "octave",
   "version": "6.2.0"
  }
 },
 "nbformat": 4,
 "nbformat_minor": 5
}
