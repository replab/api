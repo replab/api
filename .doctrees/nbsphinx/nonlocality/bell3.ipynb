{
 "cells": [
  {
   "cell_type": "markdown",
   "id": "95d3b665",
   "metadata": {},
   "source": [
    "# Symmetries in Bell nonlocality, part 3\n",
    "\n",
    "Let us now turn our attention to the symmetries of the full scenario. We first recall the definitions of part 1."
   ]
  },
  {
   "cell_type": "code",
   "execution_count": 1,
   "id": "1a329c03",
   "metadata": {
    "execution": {
     "iopub.execute_input": "2021-12-28T13:46:30.796270Z",
     "iopub.status.busy": "2021-12-28T13:46:30.795883Z",
     "iopub.status.idle": "2021-12-28T13:46:30.840130Z",
     "shell.execute_reply": "2021-12-28T13:46:30.839714Z"
    }
   },
   "outputs": [
    {
     "name": "stdout",
     "output_type": "stream",
     "text": [
      "warning: addpath: /github/workspace/generated/sphinx/nonlocality/../../external/replab: No such file or directory\r\n"
     ]
    },
    {
     "name": "stdout",
     "output_type": "stream",
     "text": [
      "error: 'replab_init' undefined near line 1, column 1\r\n"
     ]
    },
    {
     "name": "stdout",
     "output_type": "stream",
     "text": [
      "error: 'replab' undefined near line 1, column 1\r\n"
     ]
    },
    {
     "name": "stdout",
     "output_type": "stream",
     "text": [
      "error: 'outputGroup' undefined near line 1, column 1\r\n"
     ]
    },
    {
     "name": "stdout",
     "output_type": "stream",
     "text": [
      "error: 'replab' undefined near line 1, column 1\r\n"
     ]
    },
    {
     "name": "stdout",
     "output_type": "stream",
     "text": [
      "error: 'inputGroup' undefined near line 1, column 1\r\n"
     ]
    },
    {
     "name": "stdout",
     "output_type": "stream",
     "text": [
      "error: 'ioGroup' undefined near line 1, column 1\r\n"
     ]
    }
   ],
   "source": [
    "addpath([pwd, '/../../external/replab']);\n",
    "replab_init('verbose', 0);\n",
    "outputGroup = replab.S(2);\n",
    "outputRep = outputGroup.naturalRep;\n",
    "inputGroup = replab.S(2);\n",
    "ioGroup = inputGroup.wreathProduct(outputGroup);\n",
    "ioRep = ioGroup.imprimitiveRep(outputRep);"
   ]
  },
  {
   "cell_type": "markdown",
   "id": "53a101dd",
   "metadata": {},
   "source": [
    "The same story repeats for relabelings of parties: the scenario involves\n",
    "two homogeneous parties. We thus have two copies of the group relabeling\n",
    "inputs and/or outputs (one for Alice, one for Bob), and a copy of $S_2$ that\n",
    "permutes the parties. This group desribing all possible relabellings in\n",
    "this scenario is thus given by:"
   ]
  },
  {
   "cell_type": "code",
   "execution_count": 2,
   "id": "da14ce7b",
   "metadata": {
    "execution": {
     "iopub.execute_input": "2021-12-28T13:46:30.842481Z",
     "iopub.status.busy": "2021-12-28T13:46:30.842114Z",
     "iopub.status.idle": "2021-12-28T13:46:30.849916Z",
     "shell.execute_reply": "2021-12-28T13:46:30.850220Z"
    }
   },
   "outputs": [
    {
     "name": "stdout",
     "output_type": "stream",
     "text": [
      "error: 'outputGroup' undefined near line 1, column 1\r\n"
     ]
    }
   ],
   "source": [
    "scenarioGroup = outputGroup.wreathProduct(ioGroup);"
   ]
  },
  {
   "cell_type": "code",
   "execution_count": 3,
   "id": "5ca11892",
   "metadata": {
    "execution": {
     "iopub.execute_input": "2021-12-28T13:46:30.852716Z",
     "iopub.status.busy": "2021-12-28T13:46:30.852332Z",
     "iopub.status.idle": "2021-12-28T13:46:30.860129Z",
     "shell.execute_reply": "2021-12-28T13:46:30.859797Z"
    }
   },
   "outputs": [
    {
     "name": "stdout",
     "output_type": "stream",
     "text": [
      "error: 'scenarioGroup' undefined near line 1, column 1\r\n"
     ]
    }
   ],
   "source": [
    "scenarioGroup.sample"
   ]
  },
  {
   "cell_type": "markdown",
   "id": "0698c736",
   "metadata": {},
   "source": [
    "The representation on the behavior $P(ab|xy)$ is however a primitive\n",
    "representation, as $P(a|x; b|y)$ ressembles a tensor. Inside each party,\n",
    "we use the imprimitive representation constructed before."
   ]
  },
  {
   "cell_type": "code",
   "execution_count": 4,
   "id": "bcd8e216",
   "metadata": {
    "execution": {
     "iopub.execute_input": "2021-12-28T13:46:30.862610Z",
     "iopub.status.busy": "2021-12-28T13:46:30.862228Z",
     "iopub.status.idle": "2021-12-28T13:46:30.869849Z",
     "shell.execute_reply": "2021-12-28T13:46:30.869495Z"
    }
   },
   "outputs": [
    {
     "name": "stdout",
     "output_type": "stream",
     "text": [
      "error: 'scenarioGroup' undefined near line 1, column 1\r\n"
     ]
    }
   ],
   "source": [
    "probRep = scenarioGroup.primitiveRep(ioRep);"
   ]
  },
  {
   "cell_type": "markdown",
   "id": "bd9e0f2f",
   "metadata": {},
   "source": [
    "Decomposition of the full probability space\n",
    "\n",
    "We can now compute the decomposition of this representation on $P(ab|xy)$:"
   ]
  },
  {
   "cell_type": "code",
   "execution_count": 5,
   "id": "64c69f13",
   "metadata": {
    "execution": {
     "iopub.execute_input": "2021-12-28T13:46:30.872121Z",
     "iopub.status.busy": "2021-12-28T13:46:30.871745Z",
     "iopub.status.idle": "2021-12-28T13:46:30.879982Z",
     "shell.execute_reply": "2021-12-28T13:46:30.879631Z"
    }
   },
   "outputs": [
    {
     "name": "stdout",
     "output_type": "stream",
     "text": [
      "error: 'probRep' undefined near line 1, column 1\r\n"
     ]
    }
   ],
   "source": [
    "dec = probRep.decomposition"
   ]
  },
  {
   "cell_type": "markdown",
   "id": "9f5d67cf",
   "metadata": {},
   "source": [
    "There are 6 irreducible components"
   ]
  },
  {
   "cell_type": "code",
   "execution_count": 6,
   "id": "2457db42",
   "metadata": {
    "execution": {
     "iopub.execute_input": "2021-12-28T13:46:30.882150Z",
     "iopub.status.busy": "2021-12-28T13:46:30.881792Z",
     "iopub.status.idle": "2021-12-28T13:46:30.889680Z",
     "shell.execute_reply": "2021-12-28T13:46:30.889325Z"
    }
   },
   "outputs": [
    {
     "name": "stdout",
     "output_type": "stream",
     "text": [
      "error: 'dec' undefined near line 1, column 1\r\n"
     ]
    }
   ],
   "source": [
    "dec.nComponents"
   ]
  },
  {
   "cell_type": "markdown",
   "id": "b4ed13cc",
   "metadata": {},
   "source": [
    "These components correspond to the following physical elements ( see [arXiv:1610.01833](https://arxiv.org/abs/1610.01833) ) for more details:\n",
    "\n",
    "- The global normalization of probabilities\n",
    "- The difference of normalization between $x=y$ and $x\\ne y$\n",
    "- The difference of normalization between $x=0$ and $x=1$\n",
    "- The signaling between Alice and Bob\n",
    "- The marginal probabilities of Alice and Bob\n",
    "- The correlation between Alice and Bob"
   ]
  }
 ],
 "metadata": {
  "jupytext": {
   "cell_metadata_filter": "-all",
   "main_language": "matlab",
   "notebook_metadata_filter": "-all",
   "text_representation": {
    "extension": ".m",
    "format_name": "light"
   }
  },
  "language_info": {
   "file_extension": ".m",
   "help_links": [
    {
     "text": "GNU Octave",
     "url": "https://www.gnu.org/software/octave/support.html"
    },
    {
     "text": "Octave Kernel",
     "url": "https://github.com/Calysto/octave_kernel"
    },
    {
     "text": "MetaKernel Magics",
     "url": "https://metakernel.readthedocs.io/en/latest/source/README.html"
    }
   ],
   "mimetype": "text/x-octave",
   "name": "octave",
   "version": "6.2.0"
  }
 },
 "nbformat": 4,
 "nbformat_minor": 5
}
