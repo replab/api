{
 "cells": [
  {
   "cell_type": "markdown",
   "id": "7b500b12",
   "metadata": {},
   "source": [
    "# Symmetric NPA relaxations\n",
    "\n",
    "We initialize the RepLAB library."
   ]
  },
  {
   "cell_type": "code",
   "execution_count": 1,
   "id": "48d13100",
   "metadata": {
    "execution": {
     "iopub.execute_input": "2021-12-28T13:46:34.859286Z",
     "iopub.status.busy": "2021-12-28T13:46:34.858897Z",
     "iopub.status.idle": "2021-12-28T13:46:34.881602Z",
     "shell.execute_reply": "2021-12-28T13:46:34.881193Z"
    }
   },
   "outputs": [
    {
     "name": "stdout",
     "output_type": "stream",
     "text": [
      "warning: addpath: /github/workspace/generated/sphinx/nonlocality/../../external/replab: No such file or directory\r\n"
     ]
    },
    {
     "name": "stdout",
     "output_type": "stream",
     "text": [
      "error: 'replab_init' undefined near line 1, column 1\r\n"
     ]
    }
   ],
   "source": [
    "addpath([pwd, '/../../external/replab']);\n",
    "replab_init('verbose', 0);"
   ]
  },
  {
   "cell_type": "markdown",
   "id": "0529e195",
   "metadata": {},
   "source": [
    "We examine an upper bound on the quantum maximum of the CHSH inequality. We use the NPA hierarchy, and assume the moment matrix has been constructed in the\n",
    "symmetric subspace, as in [arXiv:1808.09598](https://arxiv.org/abs/1808.09598).\n",
    "\n",
    "We first declare the one and only variable, before constructing the moment matrix."
   ]
  },
  {
   "cell_type": "code",
   "execution_count": 2,
   "id": "cbd785ed",
   "metadata": {
    "execution": {
     "iopub.execute_input": "2021-12-28T13:46:34.883911Z",
     "iopub.status.busy": "2021-12-28T13:46:34.883516Z",
     "iopub.status.idle": "2021-12-28T13:46:34.923227Z",
     "shell.execute_reply": "2021-12-28T13:46:34.922884Z"
    }
   },
   "outputs": [
    {
     "name": "stdout",
     "output_type": "stream",
     "text": [
      "error: 'sdpvar' undefined near line 1, column 1\r\n"
     ]
    },
    {
     "name": "stdout",
     "output_type": "stream",
     "text": [
      "error: 'y' undefined near line 1, column 1\r\n"
     ]
    },
    {
     "name": "stdout",
     "output_type": "stream",
     "text": [
      "error: 'y' undefined near line 1, column 1\r\n"
     ]
    },
    {
     "name": "stdout",
     "output_type": "stream",
     "text": [
      "error: 'X' undefined near line 1, column 1\r\n"
     ]
    },
    {
     "name": "stdout",
     "output_type": "stream",
     "text": [
      "error: 'I_CHSH' undefined near line 1, column 1\r\n"
     ]
    }
   ],
   "source": [
    "y = sdpvar; % y is actually y_A0B0, but we save space by identifying y with it\n",
    "C = [ 1  0  0  0  0\n",
    "0  1  0  0  0\n",
    "0  0  1  0  0\n",
    "0  0  0  1  0\n",
    "0  0  0  0  1];\n",
    "A = [ 0  0  0  0  0\n",
    "0  0  0  1  1\n",
    "0  0  0  1 -1\n",
    "0  1  1  0  0\n",
    "0  1 -1  0  0];\n",
    "X = C + A*y;\n",
    "I_CHSH = 4*y; % it is <A0B0> + <A0B1> + <A1B0> - <A1B1>, and y_A1B1 = -y_A0B0.\n",
    "optimize(X >= 0, -I_CHSH, sdpsettings('verbose', 0)); % sign change to maximize, and we don't show solver output\n",
    "double(I_CHSH)"
   ]
  },
  {
   "cell_type": "markdown",
   "id": "306770fe",
   "metadata": {},
   "source": [
    "To help with symmetrization, we'll use an equivalent form of the constraint X, and check the result."
   ]
  },
  {
   "cell_type": "markdown",
   "id": "db5e9d49",
   "metadata": {},
   "source": [
    "Now, we want to find a change of basis that brings X into a block-diagonal form. This is easier to check on the basis matrices `C` and `A`, i.e. we want to find `U` such that `U*C*U'` and `U*A*U'` are block-diagonal. Let us use RepLAB for that.\n",
    "First, remark that the moment matrix is invariant under the following signed permutations:\n",
    "\n",
    "$\\vec{v} = \\left( 1, A_0, A_1, B_0, B_1 \\right) \\rightarrow  \\left( 1, B_0, B_1, A_0, A_1 \\right)$\n",
    "\n",
    "$\\vec{v} = \\left( 1, A_0, A_1, B_0, B_1 \\right) \\rightarrow  \\left( 1, -A_0, -A_1, -B_0, -B_1 \\right)$\n",
    "\n",
    "$\\vec{v} = \\left( 1, A_0, A_1, B_0, B_1 \\right) \\rightarrow  \\left( 1, A_1, A_0, B_0, -B_1 \\right)$\n",
    "\n",
    "We now show how to use RepLAB to find the change of basis for the symmetry group that includes only the first symmetry."
   ]
  },
  {
   "cell_type": "code",
   "execution_count": 3,
   "id": "855da7cb",
   "metadata": {
    "execution": {
     "iopub.execute_input": "2021-12-28T13:46:34.925718Z",
     "iopub.status.busy": "2021-12-28T13:46:34.925279Z",
     "iopub.status.idle": "2021-12-28T13:46:34.932862Z",
     "shell.execute_reply": "2021-12-28T13:46:34.932508Z"
    }
   },
   "outputs": [],
   "source": [
    "g1 = [1 4 5 2 3]; % permutation of parties\n",
    "g2 = [1 -2 -3 -4 -5]; % sign flip everywhere, note the signed permutation convention\n",
    "g3 = [1 3 2 4 -5]; % additional symmetry"
   ]
  },
  {
   "cell_type": "markdown",
   "id": "572804e5",
   "metadata": {},
   "source": [
    "We build the symmetry group from those generators. For the permutation of parties only, the order (=size) of the group is 2. When adding the other symmetries, the order of the group should be 16."
   ]
  },
  {
   "cell_type": "code",
   "execution_count": 4,
   "id": "0e115347",
   "metadata": {
    "execution": {
     "iopub.execute_input": "2021-12-28T13:46:34.935161Z",
     "iopub.status.busy": "2021-12-28T13:46:34.934738Z",
     "iopub.status.idle": "2021-12-28T13:46:34.946829Z",
     "shell.execute_reply": "2021-12-28T13:46:34.946500Z"
    }
   },
   "outputs": [
    {
     "name": "stdout",
     "output_type": "stream",
     "text": [
      "error: 'replab' undefined near line 1, column 1\r\n"
     ]
    },
    {
     "name": "stdout",
     "output_type": "stream",
     "text": [
      "error: 'G' undefined near line 1, column 1\r\n"
     ]
    }
   ],
   "source": [
    "nElements = 5;G = replab.SignedPermutationGroup.of(g1, g2, g3);\n",
    "G.order"
   ]
  },
  {
   "cell_type": "markdown",
   "id": "9304144e",
   "metadata": {},
   "source": [
    "If necessary, we can also expand the group elements (use `G.elements.at(2)` to get the second element for example)."
   ]
  },
  {
   "cell_type": "code",
   "execution_count": 5,
   "id": "17244207",
   "metadata": {
    "execution": {
     "iopub.execute_input": "2021-12-28T13:46:34.949047Z",
     "iopub.status.busy": "2021-12-28T13:46:34.948660Z",
     "iopub.status.idle": "2021-12-28T13:46:34.956547Z",
     "shell.execute_reply": "2021-12-28T13:46:34.956223Z"
    }
   },
   "outputs": [
    {
     "name": "stdout",
     "output_type": "stream",
     "text": [
      "error: 'G' undefined near line 1, column 1\r\n"
     ]
    }
   ],
   "source": [
    "G.elements"
   ]
  },
  {
   "cell_type": "markdown",
   "id": "51b04ee6",
   "metadata": {},
   "source": [
    "Now, the representation we need is composed of signed permutation matrices; as we are considering a group of signed permutations, this is the group *natural representation*. Representations in RepLAB are described using the images of the generators. By calling `G.sample`, we get random elements from the group, and by calling `rep.image(g)` we get the image of a group element."
   ]
  },
  {
   "cell_type": "code",
   "execution_count": 6,
   "id": "f0951289",
   "metadata": {
    "execution": {
     "iopub.execute_input": "2021-12-28T13:46:34.958833Z",
     "iopub.status.busy": "2021-12-28T13:46:34.958446Z",
     "iopub.status.idle": "2021-12-28T13:46:34.966339Z",
     "shell.execute_reply": "2021-12-28T13:46:34.966018Z"
    }
   },
   "outputs": [
    {
     "name": "stdout",
     "output_type": "stream",
     "text": [
      "error: 'G' undefined near line 1, column 1\r\n"
     ]
    }
   ],
   "source": [
    "rep = G.naturalRep"
   ]
  },
  {
   "cell_type": "code",
   "execution_count": 7,
   "id": "3ec07765",
   "metadata": {
    "execution": {
     "iopub.execute_input": "2021-12-28T13:46:34.968555Z",
     "iopub.status.busy": "2021-12-28T13:46:34.968183Z",
     "iopub.status.idle": "2021-12-28T13:46:34.975965Z",
     "shell.execute_reply": "2021-12-28T13:46:34.975639Z"
    }
   },
   "outputs": [
    {
     "name": "stdout",
     "output_type": "stream",
     "text": [
      "error: 'G' undefined near line 1, column 1\r\n"
     ]
    }
   ],
   "source": [
    "g = G.sample"
   ]
  },
  {
   "cell_type": "markdown",
   "id": "b90b6a69",
   "metadata": {},
   "source": [
    "Now, we decompose the representation into irreducible components. For that, we call `rep.decomposition`. In the answer I(m)xR(d), we express that the component has $m$ copies (multiplicity) of a `R`eal representation of dimension `d`. We then play with the indices of the component, and copy.\n",
    "\n",
    "Hint: explore `rep.decomposition.component(i).irrep(j)` for $(i,j) = (1,1), (2,1), (3,1)$."
   ]
  },
  {
   "cell_type": "code",
   "execution_count": 8,
   "id": "d16ad05a",
   "metadata": {
    "execution": {
     "iopub.execute_input": "2021-12-28T13:46:34.978069Z",
     "iopub.status.busy": "2021-12-28T13:46:34.977696Z",
     "iopub.status.idle": "2021-12-28T13:46:34.985637Z",
     "shell.execute_reply": "2021-12-28T13:46:34.985276Z"
    }
   },
   "outputs": [
    {
     "name": "stdout",
     "output_type": "stream",
     "text": [
      "error: 'rep' undefined near line 1, column 1\r\n"
     ]
    }
   ],
   "source": [
    "rep.decomposition"
   ]
  },
  {
   "cell_type": "code",
   "execution_count": 9,
   "id": "1ecdca68",
   "metadata": {
    "execution": {
     "iopub.execute_input": "2021-12-28T13:46:34.987764Z",
     "iopub.status.busy": "2021-12-28T13:46:34.987376Z",
     "iopub.status.idle": "2021-12-28T13:46:34.995437Z",
     "shell.execute_reply": "2021-12-28T13:46:34.995824Z"
    }
   },
   "outputs": [
    {
     "name": "stdout",
     "output_type": "stream",
     "text": [
      "error: 'rep' undefined near line 1, column 1\r\n"
     ]
    }
   ],
   "source": [
    "rep.decomposition.component(1).irrep(1)"
   ]
  },
  {
   "cell_type": "markdown",
   "id": "bdc0997e",
   "metadata": {},
   "source": [
    "We now ask for the change of basis matrix, and verify that `A` and `C` block-diagonalize."
   ]
  },
  {
   "cell_type": "code",
   "execution_count": 10,
   "id": "bcd24f7b",
   "metadata": {
    "execution": {
     "iopub.execute_input": "2021-12-28T13:46:34.998015Z",
     "iopub.status.busy": "2021-12-28T13:46:34.997633Z",
     "iopub.status.idle": "2021-12-28T13:46:35.015762Z",
     "shell.execute_reply": "2021-12-28T13:46:35.015404Z"
    }
   },
   "outputs": [
    {
     "name": "stdout",
     "output_type": "stream",
     "text": [
      "error: 'rep' undefined near line 1, column 1\r\n"
     ]
    },
    {
     "name": "stdout",
     "output_type": "stream",
     "text": [
      "error: 'U' undefined near line 1, column 1\r\n"
     ]
    },
    {
     "name": "stdout",
     "output_type": "stream",
     "text": [
      "error: 'U' undefined near line 1, column 1\r\n"
     ]
    }
   ],
   "source": [
    "U = rep.decomposition.basis\n",
    "U'*C*U\n",
    "U'*A*U"
   ]
  },
  {
   "cell_type": "markdown",
   "id": "308f8f71",
   "metadata": {},
   "source": [
    "Once we have found the change of basis matrix, we transform our moment matrix `X`, and naturally it should have a block diagonal structure following the one of `C` and `A` -- for that, it may be necessary to kill small off-block coefficients."
   ]
  },
  {
   "cell_type": "code",
   "execution_count": 11,
   "id": "a3ae2214",
   "metadata": {
    "execution": {
     "iopub.execute_input": "2021-12-28T13:46:35.018206Z",
     "iopub.status.busy": "2021-12-28T13:46:35.017366Z",
     "iopub.status.idle": "2021-12-28T13:46:35.036295Z",
     "shell.execute_reply": "2021-12-28T13:46:35.035669Z"
    }
   },
   "outputs": [
    {
     "name": "stdout",
     "output_type": "stream",
     "text": [
      "error: 'U' undefined near line 1, column 1\r\n"
     ]
    },
    {
     "name": "stdout",
     "output_type": "stream",
     "text": [
      "error: 'X' undefined near line 1, column 1\r\n"
     ]
    },
    {
     "name": "stdout",
     "output_type": "stream",
     "text": [
      "error: 'I_CHSH' undefined near line 1, column 1\r\n"
     ]
    }
   ],
   "source": [
    "X = (U'*C*U) + (U'*A*U)*y; % equivalent to the constraint above\n",
    "optimize(X >= 0, -I_CHSH); % sign change to maximize\n",
    "double(I_CHSH)"
   ]
  },
  {
   "cell_type": "markdown",
   "id": "57016aae",
   "metadata": {},
   "source": [
    "As an exercice, recover an algebraic basis from `U`, guess the form of the semidefinite program when fully block-diagonal (i.e. for the full group of CHSH symmetries).\n",
    "**Remark that now the problem can be solved by hand to recover the** $2\\sqrt{2}$ **bound, as the SDP matrix is fully diagonal, and thus corresponds to linear inequalities.**"
   ]
  }
 ],
 "metadata": {
  "jupytext": {
   "formats": "ipynb,m:light",
   "text_representation": {
    "extension": ".m",
    "format_name": "light",
    "format_version": "1.5",
    "jupytext_version": "1.3.2"
   }
  },
  "kernelspec": {
   "display_name": "Octave",
   "language": "octave",
   "name": "octave"
  },
  "language_info": {
   "file_extension": ".m",
   "help_links": [
    {
     "text": "GNU Octave",
     "url": "https://www.gnu.org/software/octave/support.html"
    },
    {
     "text": "Octave Kernel",
     "url": "https://github.com/Calysto/octave_kernel"
    },
    {
     "text": "MetaKernel Magics",
     "url": "https://metakernel.readthedocs.io/en/latest/source/README.html"
    }
   ],
   "mimetype": "text/x-octave",
   "name": "octave",
   "version": "6.2.0"
  }
 },
 "nbformat": 4,
 "nbformat_minor": 5
}
