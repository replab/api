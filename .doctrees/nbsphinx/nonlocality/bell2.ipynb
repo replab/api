{
 "cells": [
  {
   "cell_type": "markdown",
   "id": "4b96458d",
   "metadata": {},
   "source": [
    "# Symmetries in Bell nonlocality, part 2\n",
    "\n",
    "We describe the relabelings in the CHSH scenario, and decompose their action on probability distributions $P(ab|xy)$, now using an abstract group construction.\n",
    "\n",
    "We identify those relabelings with a [wreath product](https://en.wikipedia.org/wiki/Wreath_product) construction, which RepLAB supports.\n",
    "This topic guide can also be considered as a (small) introduction to the group constructions available in RepLAB."
   ]
  },
  {
   "cell_type": "markdown",
   "id": "f8a61220",
   "metadata": {},
   "source": [
    "Before using *RepLAB* commands, we must first initialize the library:"
   ]
  },
  {
   "cell_type": "code",
   "execution_count": 1,
   "id": "fffe432a",
   "metadata": {
    "execution": {
     "iopub.execute_input": "2021-12-28T13:46:26.408888Z",
     "iopub.status.busy": "2021-12-28T13:46:26.408518Z",
     "iopub.status.idle": "2021-12-28T13:46:26.431202Z",
     "shell.execute_reply": "2021-12-28T13:46:26.430750Z"
    }
   },
   "outputs": [
    {
     "name": "stdout",
     "output_type": "stream",
     "text": [
      "warning: addpath: /github/workspace/generated/sphinx/nonlocality/../../external/replab: No such file or directory\r\n"
     ]
    },
    {
     "name": "stdout",
     "output_type": "stream",
     "text": [
      "error: 'replab_init' undefined near line 1, column 1\r\n"
     ]
    }
   ],
   "source": [
    "addpath([pwd, '/../../external/replab']);\n",
    "replab_init('verbose', 0);"
   ]
  },
  {
   "cell_type": "markdown",
   "id": "43218c93",
   "metadata": {},
   "source": [
    "## Only outputs\n",
    "\n",
    "Outputs are binary, so the relabelling of outputs is the symmetric group\n",
    "of domain size 2."
   ]
  },
  {
   "cell_type": "code",
   "execution_count": 2,
   "id": "553ddac6",
   "metadata": {
    "execution": {
     "iopub.execute_input": "2021-12-28T13:46:26.433732Z",
     "iopub.status.busy": "2021-12-28T13:46:26.433361Z",
     "iopub.status.idle": "2021-12-28T13:46:26.441635Z",
     "shell.execute_reply": "2021-12-28T13:46:26.441264Z"
    }
   },
   "outputs": [
    {
     "name": "stdout",
     "output_type": "stream",
     "text": [
      "error: 'replab' undefined near line 1, column 1\r\n"
     ]
    }
   ],
   "source": [
    "outputGroup = replab.S(2)"
   ]
  },
  {
   "cell_type": "markdown",
   "id": "df4a8543",
   "metadata": {},
   "source": [
    "Now, an element of `outputGroup` is just a permutation of the two outputs:"
   ]
  },
  {
   "cell_type": "code",
   "execution_count": 3,
   "id": "dd43b543",
   "metadata": {
    "execution": {
     "iopub.execute_input": "2021-12-28T13:46:26.443963Z",
     "iopub.status.busy": "2021-12-28T13:46:26.443583Z",
     "iopub.status.idle": "2021-12-28T13:46:26.451755Z",
     "shell.execute_reply": "2021-12-28T13:46:26.451397Z"
    }
   },
   "outputs": [
    {
     "name": "stdout",
     "output_type": "stream",
     "text": [
      "error: 'outputGroup' undefined near line 1, column 1\r\n"
     ]
    }
   ],
   "source": [
    "outputGroup.elements"
   ]
  },
  {
   "cell_type": "markdown",
   "id": "d148e5c5",
   "metadata": {},
   "source": [
    "The representation of this relabelling on the probabilities $P(a)$ is then the defining representation"
   ]
  },
  {
   "cell_type": "code",
   "execution_count": 4,
   "id": "b8737763",
   "metadata": {
    "execution": {
     "iopub.execute_input": "2021-12-28T13:46:26.454009Z",
     "iopub.status.busy": "2021-12-28T13:46:26.453645Z",
     "iopub.status.idle": "2021-12-28T13:46:26.466064Z",
     "shell.execute_reply": "2021-12-28T13:46:26.465686Z"
    }
   },
   "outputs": [
    {
     "name": "stdout",
     "output_type": "stream",
     "text": [
      "error: 'outputGroup' undefined near line 1, column 1\r\n"
     ]
    },
    {
     "name": "stdout",
     "output_type": "stream",
     "text": [
      "error: 'outputRep' undefined near line 1, column 1\r\n"
     ]
    }
   ],
   "source": [
    "outputRep = outputGroup.naturalRep\n",
    "outputRep.image([2 1])"
   ]
  },
  {
   "cell_type": "markdown",
   "id": "33f7a5e4",
   "metadata": {},
   "source": [
    "## Inputs and outputs\n",
    "\n",
    "In the CHSH scenario, each party has two binary measurements. Therefore,\n",
    "a copy of $S_2$ acts on the outputs of the first measurement, and a second\n",
    "copy of $S_2$ acting on the outputs of the second measurement, while\n",
    "another copy of $S_2$ permutes the choice of measurement (input).\n",
    "\n",
    "This is described by the wreath product of $S_2$ by $S_2$."
   ]
  },
  {
   "cell_type": "code",
   "execution_count": 5,
   "id": "9c4f0336",
   "metadata": {
    "execution": {
     "iopub.execute_input": "2021-12-28T13:46:26.468489Z",
     "iopub.status.busy": "2021-12-28T13:46:26.468124Z",
     "iopub.status.idle": "2021-12-28T13:46:26.480584Z",
     "shell.execute_reply": "2021-12-28T13:46:26.480232Z"
    }
   },
   "outputs": [
    {
     "name": "stdout",
     "output_type": "stream",
     "text": [
      "error: 'replab' undefined near line 1, column 1\r\n"
     ]
    },
    {
     "name": "stdout",
     "output_type": "stream",
     "text": [
      "error: 'inputGroup' undefined near line 1, column 1\r\n"
     ]
    }
   ],
   "source": [
    "inputGroup = replab.S(2)\n",
    "ioGroup = inputGroup.wreathProduct(outputGroup)"
   ]
  },
  {
   "cell_type": "markdown",
   "id": "bfefc28e",
   "metadata": {},
   "source": [
    "Elements of `ioGroup` are now composed of a permutation of inputs, and the conditional output permutation for $x=1,2$:"
   ]
  },
  {
   "cell_type": "code",
   "execution_count": 6,
   "id": "cd73dde5",
   "metadata": {
    "execution": {
     "iopub.execute_input": "2021-12-28T13:46:26.483020Z",
     "iopub.status.busy": "2021-12-28T13:46:26.482613Z",
     "iopub.status.idle": "2021-12-28T13:46:26.491737Z",
     "shell.execute_reply": "2021-12-28T13:46:26.491392Z"
    }
   },
   "outputs": [
    {
     "name": "stdout",
     "output_type": "stream",
     "text": [
      "error: 'ioGroup' undefined near line 1, column 1\r\n"
     ]
    }
   ],
   "source": [
    "ioGroup.elements"
   ]
  },
  {
   "cell_type": "markdown",
   "id": "0927f5c3",
   "metadata": {},
   "source": [
    "The representation on the conditional probility $P(a|x)$ is the imprimitive representation,\n",
    "given that we use the defining representation\n",
    "for the inner group"
   ]
  },
  {
   "cell_type": "code",
   "execution_count": 7,
   "id": "e1d28797",
   "metadata": {
    "execution": {
     "iopub.execute_input": "2021-12-28T13:46:26.494226Z",
     "iopub.status.busy": "2021-12-28T13:46:26.493833Z",
     "iopub.status.idle": "2021-12-28T13:46:26.502046Z",
     "shell.execute_reply": "2021-12-28T13:46:26.501702Z"
    }
   },
   "outputs": [
    {
     "name": "stdout",
     "output_type": "stream",
     "text": [
      "error: 'ioGroup' undefined near line 1, column 1\r\n"
     ]
    }
   ],
   "source": [
    "ioRep = ioGroup.imprimitiveRep(outputRep);"
   ]
  },
  {
   "cell_type": "code",
   "execution_count": 8,
   "id": "d88b3259",
   "metadata": {
    "execution": {
     "iopub.execute_input": "2021-12-28T13:46:26.504381Z",
     "iopub.status.busy": "2021-12-28T13:46:26.503999Z",
     "iopub.status.idle": "2021-12-28T13:46:26.512160Z",
     "shell.execute_reply": "2021-12-28T13:46:26.511822Z"
    }
   },
   "outputs": [
    {
     "name": "stdout",
     "output_type": "stream",
     "text": [
      "error: 'ioRep' undefined near line 1, column 1\r\n"
     ]
    }
   ],
   "source": [
    "ioRep.image({[2 1] {[1 2] [1 2]}}) % permuting only the inputs"
   ]
  },
  {
   "cell_type": "code",
   "execution_count": 9,
   "id": "df1a2bc2",
   "metadata": {
    "execution": {
     "iopub.execute_input": "2021-12-28T13:46:26.514497Z",
     "iopub.status.busy": "2021-12-28T13:46:26.514117Z",
     "iopub.status.idle": "2021-12-28T13:46:26.522938Z",
     "shell.execute_reply": "2021-12-28T13:46:26.522588Z"
    }
   },
   "outputs": [
    {
     "name": "stdout",
     "output_type": "stream",
     "text": [
      "error: 'ioRep' undefined near line 1, column 1\r\n"
     ]
    }
   ],
   "source": [
    "ioRep.image({[1 2] {[2 1] [1 2]}}) % permuting only the outputs, conditioned on $x=1$"
   ]
  }
 ],
 "metadata": {
  "jupytext": {
   "cell_metadata_filter": "-all",
   "main_language": "matlab",
   "notebook_metadata_filter": "-all",
   "text_representation": {
    "extension": ".m",
    "format_name": "light"
   }
  },
  "language_info": {
   "file_extension": ".m",
   "help_links": [
    {
     "text": "GNU Octave",
     "url": "https://www.gnu.org/software/octave/support.html"
    },
    {
     "text": "Octave Kernel",
     "url": "https://github.com/Calysto/octave_kernel"
    },
    {
     "text": "MetaKernel Magics",
     "url": "https://metakernel.readthedocs.io/en/latest/source/README.html"
    }
   ],
   "mimetype": "text/x-octave",
   "name": "octave",
   "version": "6.2.0"
  }
 },
 "nbformat": 4,
 "nbformat_minor": 5
}
